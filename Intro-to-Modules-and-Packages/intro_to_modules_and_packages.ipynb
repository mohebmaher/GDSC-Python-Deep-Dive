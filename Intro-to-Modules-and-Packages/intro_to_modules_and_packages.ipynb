{
 "cells": [
  {
   "cell_type": "markdown",
   "id": "333fb848-e63f-49e7-a88b-5aaefed55313",
   "metadata": {},
   "source": [
    "# Introduction to Modules and Packages in Python"
   ]
  },
  {
   "cell_type": "markdown",
   "id": "20389d5b-96cb-4803-8be3-5a180f4cb948",
   "metadata": {},
   "source": [
    "## Chapter Outline:"
   ]
  },
  {
   "cell_type": "markdown",
   "id": "028847c7-0f9e-49b2-8088-2251d09d21ce",
   "metadata": {},
   "source": [
    "- **In this chapter, you will learn about:**\n",
    "> - What is a Python Module / a Python Package?\n",
    "> - Why Do We Need Python Modules / Packages?\n",
    "> - Types of Modules and Packages in Python.\n",
    "> - Using Python Modules and Packages.\n",
    "> - Examples of Some of the Most Popular Python Modules and Packages."
   ]
  },
  {
   "cell_type": "markdown",
   "id": "d4020805-f61d-4bcd-be61-13984e7ad8b6",
   "metadata": {},
   "source": [
    "## A Brief Introduction to Modular Programming"
   ]
  },
  {
   "cell_type": "markdown",
   "id": "693cf1e3-b005-49a2-ab20-733bd628aeb5",
   "metadata": {},
   "source": [
    "### What is a Python Module / a Python Package?"
   ]
  },
  {
   "cell_type": "markdown",
   "id": "7c2a0287-411b-4a66-9dcd-36c70183f232",
   "metadata": {},
   "source": [
    "- A module is a **file containing Python definitions and statements**.\n",
    "- A package as a **way of organizing related modules** into a single directory hierarchy."
   ]
  },
  {
   "cell_type": "markdown",
   "id": "8d1c8ebb-7a7d-4d2b-8198-b8bddfe8fb37",
   "metadata": {},
   "source": [
    "### Why Do We Need Python Modules / Packages?"
   ]
  },
  {
   "cell_type": "markdown",
   "id": "dcc928a4-9ebb-4df5-ba35-b104e6c7ee7c",
   "metadata": {},
   "source": [
    "- **Modular programming as a software design technique where functionality is separated into distinct, independent modules.**"
   ]
  },
  {
   "cell_type": "markdown",
   "id": "f75b4dcf-0f54-4498-abdd-3f81c56416d9",
   "metadata": {},
   "source": [
    "- There are **several advantages** to modularizing code in a large application:\n",
    "> - Simplicity,\n",
    "> - Maintainability,\n",
    "> - Reusability,\n",
    "> - Scoping."
   ]
  },
  {
   "cell_type": "markdown",
   "id": "a9bc39f2-6f5e-4124-81cf-02e02fbc5c79",
   "metadata": {},
   "source": [
    "- **Functions**, **modules** and **packages** are all constructs in Python that **promote code modularization**."
   ]
  },
  {
   "cell_type": "markdown",
   "id": "dd3092e6-47c0-4c48-9a74-f6b532bbcdee",
   "metadata": {},
   "source": [
    "## Python Modules and Packages Overview"
   ]
  },
  {
   "cell_type": "markdown",
   "id": "30f1cf5f-523a-4d69-a0d7-a05ab76dd6a2",
   "metadata": {},
   "source": [
    "### Types of Modules and Packages in Python"
   ]
  },
  {
   "cell_type": "markdown",
   "id": "1f9bad5e-cc32-4822-803e-b588a20663e0",
   "metadata": {},
   "source": [
    "- There are **two types** of modules and packages in Python:"
   ]
  },
  {
   "cell_type": "markdown",
   "id": "da66c9b4-e55f-4cfc-909c-f7422c4143d2",
   "metadata": {},
   "source": [
    "#### 1. Standard Library Modules and Packages\n",
    "\n",
    "> - **Python comes with a rich set of built-in modules and packages** known as the standard library,\r",
    "> - These **DON'T require any furhter installation**,\n",
    "> - **Examples** of standard library modules and packages: os, math, random, and datetime."
   ]
  },
  {
   "cell_type": "markdown",
   "id": "5227d840-3061-4341-8850-f6e19a8fd27a",
   "metadata": {},
   "source": [
    "#### 2. Third-Party Modules and Package\n",
    "> - These are **developed by the Python community** to extend the language's capabilities,\n",
    "> - **The Python Package Index (PYPI) is a central repository** for third-party modules and packages,\n",
    "> - **Examples** of popular third-party modules and packages: `requests` for HTTP requests, `numpy` for numerical computing, and `matplotlib` for data visualizn"
   ]
  },
  {
   "cell_type": "markdown",
   "id": "518734cd-9d1c-49f8-8cef-f05879aa9135",
   "metadata": {},
   "source": [
    "### Installing Third-Party Python Modules and Packages"
   ]
  },
  {
   "cell_type": "markdown",
   "id": "0089a6ad-0784-4e9d-89ec-726ee56d8349",
   "metadata": {},
   "source": [
    "### Using Python Modules and Packages"
   ]
  },
  {
   "cell_type": "markdown",
   "id": "0f3e33f2-dc17-4857-a79b-6e92b09c82f8",
   "metadata": {},
   "source": [
    "#### The Module Search Path"
   ]
  },
  {
   "cell_type": "markdown",
   "id": "da80cb93-53dc-428a-b117-01bcd92711ce",
   "metadata": {},
   "source": [
    "- A module’s contents are accessed the same way in both cases, **with the `import` statement**."
   ]
  },
  {
   "cell_type": "markdown",
   "id": "1d2cce78-9362-42f5-a2dd-19cbc5d478ab",
   "metadata": {},
   "source": [
    "- When the interpreter executes the `import` statement, **it searches for the module in a list of directories** assembled from the following sources:\n",
    "> - The directory from which the input script was run or the **current dirtectoy**,\n",
    "> - The list of directories contained in the **PYTHONPATH environment variable**,\n",
    "> - An **installation-dependent list of directories** configured at the time Python is installed.sys:"
   ]
  },
  {
   "cell_type": "markdown",
   "id": "f728e523-d55b-4f3e-84f2-3bcde466b45d",
   "metadata": {},
   "source": [
    "- The resulting search path is accessible **in the Python variable `sys.path`**, which is obtained from a module named sys:"
   ]
  },
  {
   "cell_type": "code",
   "execution_count": 1,
   "id": "70894e4d-f266-4ca9-9af0-b57bc1cf32a9",
   "metadata": {},
   "outputs": [
    {
     "data": {
      "text/plain": [
       "['H:\\\\Programming Lab\\\\Data-Playground\\\\Tutorials\\\\GDSC\\\\GDSC-Python-Deep-Dive\\\\Intro-to-Modules-and-Packages',\n",
       " 'C:\\\\Users\\\\MOHEB_MAHER\\\\AppData\\\\Local\\\\Programs\\\\Python\\\\Python311\\\\python311.zip',\n",
       " 'C:\\\\Users\\\\MOHEB_MAHER\\\\AppData\\\\Local\\\\Programs\\\\Python\\\\Python311\\\\DLLs',\n",
       " 'C:\\\\Users\\\\MOHEB_MAHER\\\\AppData\\\\Local\\\\Programs\\\\Python\\\\Python311\\\\Lib',\n",
       " 'C:\\\\Users\\\\MOHEB_MAHER\\\\AppData\\\\Local\\\\Programs\\\\Python\\\\Python311',\n",
       " 'C:\\\\Users\\\\MOHEB_MAHER\\\\.virtualenvs\\\\Data-Playground-ripDv5R2',\n",
       " '',\n",
       " 'C:\\\\Users\\\\MOHEB_MAHER\\\\.virtualenvs\\\\Data-Playground-ripDv5R2\\\\Lib\\\\site-packages',\n",
       " 'C:\\\\Users\\\\MOHEB_MAHER\\\\.virtualenvs\\\\Data-Playground-ripDv5R2\\\\Lib\\\\site-packages\\\\win32',\n",
       " 'C:\\\\Users\\\\MOHEB_MAHER\\\\.virtualenvs\\\\Data-Playground-ripDv5R2\\\\Lib\\\\site-packages\\\\win32\\\\lib',\n",
       " 'C:\\\\Users\\\\MOHEB_MAHER\\\\.virtualenvs\\\\Data-Playground-ripDv5R2\\\\Lib\\\\site-packages\\\\Pythonwin']"
      ]
     },
     "execution_count": 1,
     "metadata": {},
     "output_type": "execute_result"
    }
   ],
   "source": [
    "import sys\n",
    "sys.path # The exact contents are installation-dependent!"
   ]
  },
  {
   "cell_type": "markdown",
   "id": "7868f552-b2f8-4a93-b9eb-81786d0c9402",
   "metadata": {},
   "source": [
    "-  You can **put the module file in any directory of your choice and then modify sys.path at run-time** so that it contains that directory:"
   ]
  },
  {
   "cell_type": "code",
   "execution_count": 2,
   "id": "68f2bf99-40be-4e95-a6ee-93c8c7b8a21d",
   "metadata": {},
   "outputs": [
    {
     "name": "stdout",
     "output_type": "stream",
     "text": [
      "Running the first module!\n"
     ]
    }
   ],
   "source": [
    "import mod1"
   ]
  },
  {
   "cell_type": "code",
   "execution_count": 3,
   "id": "187f12dc-2516-4917-b6b3-fcea495cfdd1",
   "metadata": {},
   "outputs": [
    {
     "ename": "ModuleNotFoundError",
     "evalue": "No module named 'mod2'",
     "output_type": "error",
     "traceback": [
      "\u001b[1;31m---------------------------------------------------------------------------\u001b[0m",
      "\u001b[1;31mModuleNotFoundError\u001b[0m                       Traceback (most recent call last)",
      "Cell \u001b[1;32mIn[3], line 1\u001b[0m\n\u001b[1;32m----> 1\u001b[0m \u001b[38;5;28;01mimport\u001b[39;00m \u001b[38;5;21;01mmod2\u001b[39;00m\n",
      "\u001b[1;31mModuleNotFoundError\u001b[0m: No module named 'mod2'"
     ]
    }
   ],
   "source": [
    "import mod2"
   ]
  },
  {
   "cell_type": "code",
   "execution_count": 4,
   "id": "965235f4-0e65-433e-9305-c3cf2a32ddf5",
   "metadata": {},
   "outputs": [
    {
     "name": "stdout",
     "output_type": "stream",
     "text": [
      "Running the second module!\n"
     ]
    }
   ],
   "source": [
    "sys.path.append(\"Assets\")\n",
    "import mod2"
   ]
  },
  {
   "cell_type": "markdown",
   "id": "aa67e538-0381-4891-9ab5-fbd6aaf66bcd",
   "metadata": {},
   "source": [
    "- Once a module has been imported, you can **determine the location where it was found** with the module’s `__file__` attribute:"
   ]
  },
  {
   "cell_type": "code",
   "execution_count": 5,
   "id": "a56c74fa-b24d-44cd-8ba3-aa7879333e0d",
   "metadata": {},
   "outputs": [
    {
     "data": {
      "text/plain": [
       "'H:\\\\Programming Lab\\\\Data-Playground\\\\Tutorials\\\\GDSC\\\\GDSC-Python-Deep-Dive\\\\Intro-to-Modules-and-Packages\\\\mod1.py'"
      ]
     },
     "execution_count": 5,
     "metadata": {},
     "output_type": "execute_result"
    }
   ],
   "source": [
    "mod1.__file__"
   ]
  },
  {
   "cell_type": "code",
   "execution_count": 6,
   "id": "edf4ee58-6c81-4d76-bcae-51a61d69c871",
   "metadata": {},
   "outputs": [
    {
     "data": {
      "text/plain": [
       "'H:\\\\Programming Lab\\\\Data-Playground\\\\Tutorials\\\\GDSC\\\\GDSC-Python-Deep-Dive\\\\Intro-to-Modules-and-Packages\\\\Assets\\\\mod2.py'"
      ]
     },
     "execution_count": 6,
     "metadata": {},
     "output_type": "execute_result"
    }
   ],
   "source": [
    "mod2.__file__"
   ]
  },
  {
   "cell_type": "markdown",
   "id": "f7e2472c-8d75-45f4-b281-fe74747721d6",
   "metadata": {},
   "source": [
    "#### Loading a Module"
   ]
  },
  {
   "cell_type": "markdown",
   "id": "8e073395-feb1-4c4e-8561-3f4f89ab050d",
   "metadata": {},
   "source": [
    "> - A module is **only loaded once per interpreter session**,\n",
    "> - Any statements will **only be executed the first time a module is imported**,\n",
    "> - If you make a change to a module and need to **reload it**, you need to either **restart the interpreter** or **use a function called `reload()` from module `importlib`**."
   ]
  },
  {
   "cell_type": "code",
   "execution_count": 7,
   "id": "68da3e06-4b00-45d5-afa3-4e7f3cfe0448",
   "metadata": {},
   "outputs": [],
   "source": [
    "import mod1"
   ]
  },
  {
   "cell_type": "code",
   "execution_count": 8,
   "id": "ff944a26-ec18-4583-a13e-d00dcf390d64",
   "metadata": {},
   "outputs": [
    {
     "name": "stdout",
     "output_type": "stream",
     "text": [
      "Running the first module!\n"
     ]
    },
    {
     "data": {
      "text/plain": [
       "<module 'mod1' from 'H:\\\\Programming Lab\\\\Data-Playground\\\\Tutorials\\\\GDSC\\\\GDSC-Python-Deep-Dive\\\\Intro-to-Modules-and-Packages\\\\mod1.py'>"
      ]
     },
     "execution_count": 8,
     "metadata": {},
     "output_type": "execute_result"
    }
   ],
   "source": [
    "from importlib import reload\n",
    "reload(mod1)"
   ]
  },
  {
   "cell_type": "code",
   "execution_count": null,
   "id": "cf693d7d-f65c-457f-ac63-f81bf2362997",
   "metadata": {},
   "outputs": [],
   "source": [
    "# Run this to restart the kernel:\n",
    "import os\n",
    "os._exit(00)"
   ]
  },
  {
   "cell_type": "code",
   "execution_count": 1,
   "id": "568721a8-3826-4edf-a6a8-2159b27de369",
   "metadata": {},
   "outputs": [
    {
     "name": "stdout",
     "output_type": "stream",
     "text": [
      "Running the first module!\n"
     ]
    }
   ],
   "source": [
    "import mod1"
   ]
  },
  {
   "cell_type": "markdown",
   "id": "ec297b9c-d07c-49d2-8ffa-bd4234cc8ee0",
   "metadata": {},
   "source": [
    "#### The `import` Statement"
   ]
  },
  {
   "cell_type": "markdown",
   "id": "93b4ff5f-4916-4f5a-af32-5cb06531da2a",
   "metadata": {},
   "source": [
    "1. **Using `import <module_name>`**"
   ]
  },
  {
   "cell_type": "code",
   "execution_count": null,
   "id": "e6b8cf33-7c67-4d12-8cd2-65af71eaca89",
   "metadata": {},
   "outputs": [],
   "source": [
    "# Run this to restart the kernel:\n",
    "import os\n",
    "os._exit(00)"
   ]
  },
  {
   "cell_type": "code",
   "execution_count": 1,
   "id": "4bed0e4d-2659-412f-be42-4435c2e7377e",
   "metadata": {},
   "outputs": [
    {
     "name": "stdout",
     "output_type": "stream",
     "text": [
      "Running the first module!\n"
     ]
    }
   ],
   "source": [
    "import mod1"
   ]
  },
  {
   "cell_type": "markdown",
   "id": "123a0034-eaab-476e-baf2-7d4629580ea8",
   "metadata": {},
   "source": [
    "> - Note that this does not make the module contents directly accessible to the caller, **a module creates a separate namespace**,\n",
    "> - **Objects in the module are only accessible when prefixed with `<module_name>` via dot notation**."
   ]
  },
  {
   "cell_type": "code",
   "execution_count": 2,
   "id": "6fd81657-d912-4374-8bca-fc81ff3cb4d5",
   "metadata": {},
   "outputs": [
    {
     "ename": "NameError",
     "evalue": "name 'a' is not defined",
     "output_type": "error",
     "traceback": [
      "\u001b[1;31m---------------------------------------------------------------------------\u001b[0m",
      "\u001b[1;31mNameError\u001b[0m                                 Traceback (most recent call last)",
      "Cell \u001b[1;32mIn[2], line 1\u001b[0m\n\u001b[1;32m----> 1\u001b[0m \u001b[43ma\u001b[49m\n",
      "\u001b[1;31mNameError\u001b[0m: name 'a' is not defined"
     ]
    }
   ],
   "source": [
    "a"
   ]
  },
  {
   "cell_type": "code",
   "execution_count": null,
   "id": "ac2937c4-593d-424b-958f-766e456974ba",
   "metadata": {},
   "outputs": [],
   "source": [
    "mod1.a"
   ]
  },
  {
   "cell_type": "code",
   "execution_count": 3,
   "id": "ede6d565-80d3-491a-b8e5-ca79f3529515",
   "metadata": {},
   "outputs": [
    {
     "data": {
      "text/plain": [
       "2"
      ]
     },
     "execution_count": 3,
     "metadata": {},
     "output_type": "execute_result"
    }
   ],
   "source": [
    "mod1._b"
   ]
  },
  {
   "cell_type": "code",
   "execution_count": 4,
   "id": "e8382b3a-dc88-4ed4-8a93-7428c58d9657",
   "metadata": {},
   "outputs": [
    {
     "name": "stdout",
     "output_type": "stream",
     "text": [
      "foo\n"
     ]
    }
   ],
   "source": [
    "mod1.foo()"
   ]
  },
  {
   "cell_type": "code",
   "execution_count": 5,
   "id": "d24edf6a-49b0-43a8-9728-1a777c27cfc2",
   "metadata": {},
   "outputs": [
    {
     "data": {
      "text/plain": [
       "<mod1.Bar at 0x28326f00e90>"
      ]
     },
     "execution_count": 5,
     "metadata": {},
     "output_type": "execute_result"
    }
   ],
   "source": [
    "a = mod1.Bar()\n",
    "a"
   ]
  },
  {
   "cell_type": "markdown",
   "id": "3a685f44-5e7d-40f8-9018-16568cba6976",
   "metadata": {},
   "source": [
    "**2. Using `import <module_name> as <alt_name>`**"
   ]
  },
  {
   "cell_type": "markdown",
   "id": "0f4fa3de-36a0-4764-b190-ef9800c49be5",
   "metadata": {},
   "source": [
    "> - You can also **import an entire module under an alternate name**."
   ]
  },
  {
   "cell_type": "code",
   "execution_count": null,
   "id": "ff5f0c84-a664-4c84-b0b2-45c3c13e1483",
   "metadata": {},
   "outputs": [],
   "source": [
    "# Run this to restart the kernel:\n",
    "import os\n",
    "os._exit(00)"
   ]
  },
  {
   "cell_type": "code",
   "execution_count": 1,
   "id": "ba93a53b-5962-442f-a540-449d0130ed61",
   "metadata": {},
   "outputs": [
    {
     "name": "stdout",
     "output_type": "stream",
     "text": [
      "Running the first module!\n"
     ]
    },
    {
     "data": {
      "text/plain": [
       "1"
      ]
     },
     "execution_count": 1,
     "metadata": {},
     "output_type": "execute_result"
    }
   ],
   "source": [
    "import mod1 as my_module\n",
    "my_module.a"
   ]
  },
  {
   "cell_type": "markdown",
   "id": "026396e6-71b4-4754-a3e5-7e403af75cfa",
   "metadata": {},
   "source": [
    "**3. Using `from <module_name> import <name(s)>`**"
   ]
  },
  {
   "cell_type": "markdown",
   "id": "c8e4c65d-a2c0-46be-b6ae-9dbd664afde2",
   "metadata": {},
   "source": [
    "> - An alternate form of the `import` statement **allows individual objects from the module to be imported directly into the current namespace**,\n",
    "> - Following execution of the above statement, **`<name(s)>` can be referenced in the caller’s environment without the <module_name> prefix**,\n",
    "> - Because this form of import places the object names directly into the caller’s symbol table, **any objects that already exist with the same name will be overwritten**."
   ]
  },
  {
   "cell_type": "code",
   "execution_count": null,
   "id": "51ab54f9-a055-4a21-a8d8-5cfdb8c59171",
   "metadata": {},
   "outputs": [],
   "source": [
    "# Run this to restart the kernel:\n",
    "import os\n",
    "os._exit(00)"
   ]
  },
  {
   "cell_type": "code",
   "execution_count": null,
   "id": "2c9c324e-edc2-42a5-bdbc-99958f82bddc",
   "metadata": {},
   "outputs": [],
   "source": [
    "a = '2'\n",
    "a"
   ]
  },
  {
   "cell_type": "code",
   "execution_count": 2,
   "id": "765ecaa7-b819-45b8-a03f-32ad321dc6d0",
   "metadata": {},
   "outputs": [
    {
     "name": "stdout",
     "output_type": "stream",
     "text": [
      "Running the first module!\n"
     ]
    }
   ],
   "source": [
    "from mod1 import a"
   ]
  },
  {
   "cell_type": "code",
   "execution_count": 3,
   "id": "7c2f97ab-41b1-43d2-843e-5ff9d4af0052",
   "metadata": {},
   "outputs": [
    {
     "data": {
      "text/plain": [
       "1"
      ]
     },
     "execution_count": 3,
     "metadata": {},
     "output_type": "execute_result"
    }
   ],
   "source": [
    "a"
   ]
  },
  {
   "cell_type": "markdown",
   "id": "62755307-f35c-411f-a185-72abb3cbdfba",
   "metadata": {},
   "source": [
    "**4. Using `from <module_name> import <name> as <alt_name>`**"
   ]
  },
  {
   "cell_type": "markdown",
   "id": "0693850a-333f-40b2-ba22-42ca9c9adc48",
   "metadata": {},
   "source": [
    "> - It is also possible to import individual objects but enter them into the local symbol table **with alternate name**."
   ]
  },
  {
   "cell_type": "code",
   "execution_count": null,
   "id": "cf011390-3a71-4b60-8328-568e67674444",
   "metadata": {},
   "outputs": [],
   "source": [
    "# Run this to restart the kernel:\n",
    "import os\n",
    "os._exit(00)"
   ]
  },
  {
   "cell_type": "code",
   "execution_count": 1,
   "id": "3398fe77-b5d3-43f7-a126-ebcfed477833",
   "metadata": {},
   "outputs": [
    {
     "name": "stdout",
     "output_type": "stream",
     "text": [
      "Running the first module!\n"
     ]
    },
    {
     "data": {
      "text/plain": [
       "1"
      ]
     },
     "execution_count": 1,
     "metadata": {},
     "output_type": "execute_result"
    }
   ],
   "source": [
    "from mod1 import a as some_var\n",
    "some_var"
   ]
  },
  {
   "cell_type": "markdown",
   "id": "8a0fac03-58ed-447e-9e4f-15f27528d201",
   "metadata": {},
   "source": [
    "**5. Using `from <module_name> import *`**"
   ]
  },
  {
   "cell_type": "markdown",
   "id": "f63ce02a-efc7-4b6c-a0be-ed713d55310e",
   "metadata": {},
   "source": [
    "> - This will place the names of all objects from <module_name> into the local symbol table, **with the exception of any that begin with the underscore `_` character**."
   ]
  },
  {
   "cell_type": "code",
   "execution_count": null,
   "id": "46a539f1-7236-4a47-abab-92741c95065e",
   "metadata": {},
   "outputs": [],
   "source": [
    "# Run this to restart the kernel:\n",
    "import os\n",
    "os._exit(00)"
   ]
  },
  {
   "cell_type": "code",
   "execution_count": 1,
   "id": "d19858c2-3360-4ba6-b1e1-892215864f97",
   "metadata": {},
   "outputs": [
    {
     "name": "stdout",
     "output_type": "stream",
     "text": [
      "Running the first module!\n"
     ]
    }
   ],
   "source": [
    "from mod1 import *"
   ]
  },
  {
   "cell_type": "code",
   "execution_count": 2,
   "id": "bb3e9ad0-b520-4122-9485-5dbfb6004834",
   "metadata": {},
   "outputs": [
    {
     "data": {
      "text/plain": [
       "1"
      ]
     },
     "execution_count": 2,
     "metadata": {},
     "output_type": "execute_result"
    }
   ],
   "source": [
    "a"
   ]
  },
  {
   "cell_type": "code",
   "execution_count": 3,
   "id": "b82d4bdb-edc0-430c-bc73-658028865e77",
   "metadata": {},
   "outputs": [
    {
     "ename": "NameError",
     "evalue": "name '_b' is not defined",
     "output_type": "error",
     "traceback": [
      "\u001b[1;31m---------------------------------------------------------------------------\u001b[0m",
      "\u001b[1;31mNameError\u001b[0m                                 Traceback (most recent call last)",
      "Cell \u001b[1;32mIn[3], line 1\u001b[0m\n\u001b[1;32m----> 1\u001b[0m \u001b[43m_b\u001b[49m\n",
      "\u001b[1;31mNameError\u001b[0m: name '_b' is not defined"
     ]
    }
   ],
   "source": [
    "_b"
   ]
  },
  {
   "cell_type": "markdown",
   "id": "a1c1dc10-f0b7-42f9-a8c8-738bdb7d4729",
   "metadata": {},
   "source": [
    "### Examples of Some of the Most Popular Python Modules and Packages"
   ]
  },
  {
   "cell_type": "markdown",
   "id": "9618c707-90b8-4ac8-a030-1f2f1a7c9425",
   "metadata": {},
   "source": [
    "- Examples of **built-in** Python packages and modules:"
   ]
  },
  {
   "cell_type": "markdown",
   "id": "f42d4a07-296f-4403-9d7f-d4b9ffcd9f71",
   "metadata": {},
   "source": [
    "> 1. `sys` module,\n",
    "> 2. `os` module,\n",
    "> 3. `collections` module,\n",
    "> 4. `random` module,\n",
    "> 5. `datetime` modules,\n",
    "> 6. `re` module."
   ]
  },
  {
   "cell_type": "markdown",
   "id": "911b675b-8fc9-407b-8a68-0ab811e5794a",
   "metadata": {},
   "source": [
    "- Examples of **third-party** Python packages and modules:"
   ]
  },
  {
   "cell_type": "markdown",
   "id": "ad20df5d-929e-4c68-8641-e60cf897726e",
   "metadata": {},
   "source": [
    "> 1. NumPy,\n",
    "> 2. SciPy,\n",
    "> 3. Pandas,\n",
    "> 4. Matpltlib,\n",
    "> 5. Seaborn,\n",
    "> 6. SciKit-Learn,\n",
    "> 7. TensorFlow,\n",
    "> 8. PyTorch."
   ]
  },
  {
   "cell_type": "code",
   "execution_count": null,
   "id": "d474a3de-0761-4974-9bec-ac49060cc442",
   "metadata": {},
   "outputs": [],
   "source": []
  }
 ],
 "metadata": {
  "kernelspec": {
   "display_name": "Data-Playground",
   "language": "python",
   "name": "data-playground"
  },
  "language_info": {
   "codemirror_mode": {
    "name": "ipython",
    "version": 3
   },
   "file_extension": ".py",
   "mimetype": "text/x-python",
   "name": "python",
   "nbconvert_exporter": "python",
   "pygments_lexer": "ipython3",
   "version": "3.11.6"
  }
 },
 "nbformat": 4,
 "nbformat_minor": 5
}
